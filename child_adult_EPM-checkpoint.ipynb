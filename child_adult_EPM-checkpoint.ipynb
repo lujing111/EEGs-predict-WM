{
 "cells": [
  {
   "cell_type": "code",
   "execution_count": 1,
   "metadata": {},
   "outputs": [],
   "source": [
    "import os\n",
    "import numpy as np\n",
    "import pandas as pd\n",
    "\n",
    "from analysis import get_rest_data,get_task_data,run_EPM,permutation_test,bootstrap_correlation, get_mst_data"
   ]
  },
  {
   "cell_type": "code",
   "execution_count": 2,
   "metadata": {},
   "outputs": [],
   "source": [
    "def run_EPM_predictive_power(features_name, target_name,feature_selection = 0.15):\n",
    "    \"\"\"\n",
    "    :param features_name: str, name of the features, see get_data() for more details\n",
    "    :param target_name: str, name of the target, see get_data() for more details\n",
    "    \"\"\"\n",
    "    X = all_data[features_name]\n",
    "    y = all_data[target_name]\n",
    "    r,feature = run_EPM(X,y,feature_selection = feature_selection,cv_times=20,n_splits=5)\n",
    "    print(r)\n",
    "    excel_name = f\"child_adult_EPM_X[{features_name}]_Y[{target_name}]_important_feature.xlsx\"\n",
    "    features.to_excel(excel_name)\n",
    "    \n",
    "def run_permutation_test(features_name, target_name,feature_selection = 0.1, n_permutation=1000):\n",
    "    \"\"\"\n",
    "    :param features_name: str, name of the features, see get_data() for more details\n",
    "    :param target_name: str, name of the target, see get_data() for more details\n",
    "    :param n_bootstrap: int, number of bootstrap\n",
    "    \"\"\"\n",
    "    raw_X = all_data[features_name]\n",
    "    raw_y = all_data[target_name]\n",
    "    cor_permutation = permutation_test(raw_X, raw_y,feature_selection = feature_selection, n_permutation = 1000)\n",
    "    excel_name = f\"child_adult_EPM_X[{features_name}]_Y[{target_name}]_permutation_cor.xlsx\"\n",
    "    cor_permutation.to_excel(excel_name)\n",
    "\n",
    "    \n",
    "def run_bootstrap_test(features_name, target_name, feature_selection = 0.1,n_bootstrap=1000):\n",
    "    \"\"\"\n",
    "    :param features_name: str, name of the features, see get_data() for more details\n",
    "    :param target_name: str, name of the target, see get_data() for more details\n",
    "    :param n_bootstrap: int, number of bootstrap\n",
    "    \"\"\"\n",
    "    raw_X = all_data[features_name]\n",
    "    raw_y = all_data[target_name]\n",
    "    cor_bootstrap = bootstrap_correlation(raw_X, raw_y, n_samples=160, n_bootstrap=n_bootstrap, cv_times=20, n_splits=5)\n",
    "    excel_name = f\"child_adult_rest_CPM_X[{features_name}]_Y[{target_name}]_bootstrap_cor.xlsx\"\n",
    "    cor_bootstrap.to_excel(excel_name)   \n",
    "\n",
    "    \n",
    "#resting_data = pd.read_excel(\"child_adult_resting_57channels.xlsx\", \"Sheet1\")\n",
    "#task_data = pd.read_excel(\"child_adult_ERP_rhythms_57channels.xlsx\", \"Sheet1\")\n",
    "mst_data = pd.read_excel(\"child_open_close_microstates.xlsx\",\"Sheet1\")\n",
    "all_data = get_mst_data(mst_data)"
   ]
  },
  {
   "cell_type": "code",
   "execution_count": 3,
   "metadata": {},
   "outputs": [
    {
     "ename": "NameError",
     "evalue": "name 'feature' is not defined",
     "output_type": "error",
     "traceback": [
      "\u001b[1;31m---------------------------------------------------------------------------\u001b[0m",
      "\u001b[1;31mNameError\u001b[0m                                 Traceback (most recent call last)",
      "\u001b[1;32m<ipython-input-3-6e29808dbad1>\u001b[0m in \u001b[0;36m<module>\u001b[1;34m\u001b[0m\n\u001b[0;32m      1\u001b[0m \u001b[0mfeatures_name\u001b[0m \u001b[1;33m=\u001b[0m \u001b[1;34m\"mst_open\"\u001b[0m\u001b[1;33m\u001b[0m\u001b[1;33m\u001b[0m\u001b[0m\n\u001b[0;32m      2\u001b[0m \u001b[0mtarget_name\u001b[0m \u001b[1;33m=\u001b[0m \u001b[1;34m\"post_pse\"\u001b[0m\u001b[1;33m\u001b[0m\u001b[1;33m\u001b[0m\u001b[0m\n\u001b[1;32m----> 3\u001b[1;33m \u001b[0mrun_EPM_predictive_power\u001b[0m\u001b[1;33m(\u001b[0m\u001b[0mfeatures_name\u001b[0m\u001b[1;33m,\u001b[0m \u001b[0mtarget_name\u001b[0m\u001b[1;33m,\u001b[0m \u001b[0mfeature_selection\u001b[0m \u001b[1;33m=\u001b[0m \u001b[1;36m0.1\u001b[0m\u001b[1;33m)\u001b[0m\u001b[1;33m\u001b[0m\u001b[1;33m\u001b[0m\u001b[0m\n\u001b[0m",
      "\u001b[1;32m<ipython-input-2-d4566a2a9c7e>\u001b[0m in \u001b[0;36mrun_EPM_predictive_power\u001b[1;34m(features_name, target_name, feature_selection)\u001b[0m\n\u001b[0;32m      6\u001b[0m     \u001b[0mX\u001b[0m \u001b[1;33m=\u001b[0m \u001b[0mall_data\u001b[0m\u001b[1;33m[\u001b[0m\u001b[0mfeatures_name\u001b[0m\u001b[1;33m]\u001b[0m\u001b[1;33m\u001b[0m\u001b[1;33m\u001b[0m\u001b[0m\n\u001b[0;32m      7\u001b[0m     \u001b[0my\u001b[0m \u001b[1;33m=\u001b[0m \u001b[0mall_data\u001b[0m\u001b[1;33m[\u001b[0m\u001b[0mtarget_name\u001b[0m\u001b[1;33m]\u001b[0m\u001b[1;33m\u001b[0m\u001b[1;33m\u001b[0m\u001b[0m\n\u001b[1;32m----> 8\u001b[1;33m     \u001b[0mr\u001b[0m\u001b[1;33m,\u001b[0m\u001b[0mfeature\u001b[0m \u001b[1;33m=\u001b[0m \u001b[0mrun_EPM\u001b[0m\u001b[1;33m(\u001b[0m\u001b[0mX\u001b[0m\u001b[1;33m,\u001b[0m\u001b[0my\u001b[0m\u001b[1;33m,\u001b[0m\u001b[0mfeature_selection\u001b[0m \u001b[1;33m=\u001b[0m \u001b[0mfeature_selection\u001b[0m\u001b[1;33m,\u001b[0m\u001b[0mcv_times\u001b[0m\u001b[1;33m=\u001b[0m\u001b[1;36m20\u001b[0m\u001b[1;33m,\u001b[0m\u001b[0mn_splits\u001b[0m\u001b[1;33m=\u001b[0m\u001b[1;36m5\u001b[0m\u001b[1;33m)\u001b[0m\u001b[1;33m\u001b[0m\u001b[1;33m\u001b[0m\u001b[0m\n\u001b[0m\u001b[0;32m      9\u001b[0m     \u001b[0mprint\u001b[0m\u001b[1;33m(\u001b[0m\u001b[0mr\u001b[0m\u001b[1;33m)\u001b[0m\u001b[1;33m\u001b[0m\u001b[1;33m\u001b[0m\u001b[0m\n\u001b[0;32m     10\u001b[0m     \u001b[0mexcel_name\u001b[0m \u001b[1;33m=\u001b[0m \u001b[1;34mf\"child_adult_EPM_X[{features_name}]_Y[{target_name}]_important_feature.xlsx\"\u001b[0m\u001b[1;33m\u001b[0m\u001b[1;33m\u001b[0m\u001b[0m\n",
      "\u001b[1;32m~\\Desktop\\rewrite_my_code\\analysis.py\u001b[0m in \u001b[0;36mrun_EPM\u001b[1;34m(X, y, feature_selection, cv_times, n_splits)\u001b[0m\n\u001b[0;32m    194\u001b[0m     \u001b[1;31m# define important features: calculate the frequency of each feature retained across all 100 interations\u001b[0m\u001b[1;33m\u001b[0m\u001b[1;33m\u001b[0m\u001b[1;33m\u001b[0m\u001b[0m\n\u001b[0;32m    195\u001b[0m \u001b[1;33m\u001b[0m\u001b[0m\n\u001b[1;32m--> 196\u001b[1;33m     \u001b[1;32mreturn\u001b[0m \u001b[0mr\u001b[0m\u001b[1;33m,\u001b[0m \u001b[0mfeature\u001b[0m\u001b[1;33m\u001b[0m\u001b[1;33m\u001b[0m\u001b[0m\n\u001b[0m\u001b[0;32m    197\u001b[0m \u001b[1;33m\u001b[0m\u001b[0m\n\u001b[0;32m    198\u001b[0m \u001b[1;32mdef\u001b[0m \u001b[0mpermutation_test\u001b[0m\u001b[1;33m(\u001b[0m\u001b[0mraw_features_data\u001b[0m\u001b[1;33m,\u001b[0m \u001b[0mraw_targets_data\u001b[0m\u001b[1;33m,\u001b[0m\u001b[0mfeature_selection\u001b[0m \u001b[1;33m=\u001b[0m \u001b[1;36m0.1\u001b[0m\u001b[1;33m,\u001b[0m\u001b[0mn_permutation\u001b[0m \u001b[1;33m=\u001b[0m \u001b[1;36m1000\u001b[0m\u001b[1;33m)\u001b[0m\u001b[1;33m:\u001b[0m\u001b[1;33m\u001b[0m\u001b[1;33m\u001b[0m\u001b[0m\n",
      "\u001b[1;31mNameError\u001b[0m: name 'feature' is not defined"
     ]
    }
   ],
   "source": [
    "features_name = \"mst_open\"\n",
    "target_name = \"post_pse\"\n",
    "run_EPM_predictive_power(features_name, target_name, feature_selection = 0.1)"
   ]
  },
  {
   "cell_type": "code",
   "execution_count": null,
   "metadata": {},
   "outputs": [],
   "source": [
    "run_EPM_predictive_power(features_name, target_name, feature_selection = 0.1)"
   ]
  },
  {
   "cell_type": "code",
   "execution_count": null,
   "metadata": {},
   "outputs": [],
   "source": [
    "run_permutation_test(features_name, target_name,feature_selection = 0.1, n_permutation=1000)"
   ]
  },
  {
   "cell_type": "code",
   "execution_count": null,
   "metadata": {},
   "outputs": [],
   "source": [
    "run_bootstrap_test(features_name, target_name, feature_selection = 0.1,n_bootstrap=1000)"
   ]
  }
 ],
 "metadata": {
  "kernelspec": {
   "display_name": "Python 3",
   "language": "python",
   "name": "python3"
  },
  "language_info": {
   "codemirror_mode": {
    "name": "ipython",
    "version": 3
   },
   "file_extension": ".py",
   "mimetype": "text/x-python",
   "name": "python",
   "nbconvert_exporter": "python",
   "pygments_lexer": "ipython3",
   "version": "3.7.9"
  }
 },
 "nbformat": 4,
 "nbformat_minor": 4
}
